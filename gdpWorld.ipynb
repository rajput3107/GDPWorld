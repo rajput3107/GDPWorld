{
  "nbformat": 4,
  "nbformat_minor": 0,
  "metadata": {
    "colab": {
      "provenance": []
    },
    "kernelspec": {
      "name": "python3",
      "display_name": "Python 3"
    },
    "language_info": {
      "name": "python"
    }
  },
  "cells": [
    {
      "cell_type": "code",
      "source": [
        "import pandas as pd\n",
        "from sklearn.model_selection import train_test_split\n",
        "from sklearn.linear_model import LinearRegression\n",
        "from sklearn.ensemble import RandomForestRegressor\n",
        "from sklearn.metrics import mean_squared_error, r2_score\n",
        "import matplotlib.pyplot as plt"
      ],
      "metadata": {
        "id": "kJygiO-ofUcq"
      },
      "execution_count": 27,
      "outputs": []
    },
    {
      "cell_type": "code",
      "source": [
        "# Load the dataset\n",
        "df = pd.read_csv('/content/gdpWorld.csv')\n",
        "\n",
        "# Strip any leading/trailing spaces from column names and convert to lowercase\n",
        "df.columns = df.columns.str.strip().str.lower()  # Convert column names to lowercase\n",
        "\n",
        "\n",
        "# Adjust the features based on the cleaned column names\n",
        "features = ['population', 'area (sq. mi.)', 'pop. density (per sq. mi.)', 'coastline (coast/area ratio)',\n",
        "            'net migration', 'infant mortality (per 1000 births)']\n",
        "target = 'gdp ($ per capita)'  # Adjusted to match the cleaned column name"
      ],
      "metadata": {
        "id": "0xuXtP8diS-L"
      },
      "execution_count": 28,
      "outputs": []
    },
    {
      "cell_type": "code",
      "source": [
        "# Drop rows with missing values in the selected features and target column\n",
        "df = df.dropna(subset=features + [target])\n",
        "\n",
        "# Convert features to numeric values, handling any potential non-numeric data\n",
        "# Explicitly replace commas and spaces before converting to numeric\n",
        "for feature in features:\n",
        "    # Convert the column to string type before applying string methods\n",
        "    df[feature] = df[feature].astype(str).str.replace(',', '').str.replace(' ', '').astype(float)"
      ],
      "metadata": {
        "colab": {
          "base_uri": "https://localhost:8080/"
        },
        "id": "x7yI1A7qiVwz",
        "outputId": "03e4678d-e995-4b49-e376-d155d22fd8e2"
      },
      "execution_count": 29,
      "outputs": [
        {
          "output_type": "stream",
          "name": "stderr",
          "text": [
            "<ipython-input-29-93bcdf780929>:8: SettingWithCopyWarning: \n",
            "A value is trying to be set on a copy of a slice from a DataFrame.\n",
            "Try using .loc[row_indexer,col_indexer] = value instead\n",
            "\n",
            "See the caveats in the documentation: https://pandas.pydata.org/pandas-docs/stable/user_guide/indexing.html#returning-a-view-versus-a-copy\n",
            "  df[feature] = df[feature].astype(str).str.replace(',', '').str.replace(' ', '').astype(float)\n",
            "<ipython-input-29-93bcdf780929>:8: SettingWithCopyWarning: \n",
            "A value is trying to be set on a copy of a slice from a DataFrame.\n",
            "Try using .loc[row_indexer,col_indexer] = value instead\n",
            "\n",
            "See the caveats in the documentation: https://pandas.pydata.org/pandas-docs/stable/user_guide/indexing.html#returning-a-view-versus-a-copy\n",
            "  df[feature] = df[feature].astype(str).str.replace(',', '').str.replace(' ', '').astype(float)\n",
            "<ipython-input-29-93bcdf780929>:8: SettingWithCopyWarning: \n",
            "A value is trying to be set on a copy of a slice from a DataFrame.\n",
            "Try using .loc[row_indexer,col_indexer] = value instead\n",
            "\n",
            "See the caveats in the documentation: https://pandas.pydata.org/pandas-docs/stable/user_guide/indexing.html#returning-a-view-versus-a-copy\n",
            "  df[feature] = df[feature].astype(str).str.replace(',', '').str.replace(' ', '').astype(float)\n",
            "<ipython-input-29-93bcdf780929>:8: SettingWithCopyWarning: \n",
            "A value is trying to be set on a copy of a slice from a DataFrame.\n",
            "Try using .loc[row_indexer,col_indexer] = value instead\n",
            "\n",
            "See the caveats in the documentation: https://pandas.pydata.org/pandas-docs/stable/user_guide/indexing.html#returning-a-view-versus-a-copy\n",
            "  df[feature] = df[feature].astype(str).str.replace(',', '').str.replace(' ', '').astype(float)\n",
            "<ipython-input-29-93bcdf780929>:8: SettingWithCopyWarning: \n",
            "A value is trying to be set on a copy of a slice from a DataFrame.\n",
            "Try using .loc[row_indexer,col_indexer] = value instead\n",
            "\n",
            "See the caveats in the documentation: https://pandas.pydata.org/pandas-docs/stable/user_guide/indexing.html#returning-a-view-versus-a-copy\n",
            "  df[feature] = df[feature].astype(str).str.replace(',', '').str.replace(' ', '').astype(float)\n",
            "<ipython-input-29-93bcdf780929>:8: SettingWithCopyWarning: \n",
            "A value is trying to be set on a copy of a slice from a DataFrame.\n",
            "Try using .loc[row_indexer,col_indexer] = value instead\n",
            "\n",
            "See the caveats in the documentation: https://pandas.pydata.org/pandas-docs/stable/user_guide/indexing.html#returning-a-view-versus-a-copy\n",
            "  df[feature] = df[feature].astype(str).str.replace(',', '').str.replace(' ', '').astype(float)\n"
          ]
        }
      ]
    },
    {
      "cell_type": "code",
      "source": [
        "# Prepare the feature matrix (X) and target vector (y)\n",
        "X = df[features]\n",
        "y = df[target]\n",
        "\n",
        "# Split the data into training and testing sets (80% training, 20% testing)\n",
        "X_train, X_test, y_train, y_test = train_test_split(X, y, test_size=0.2, random_state=42)"
      ],
      "metadata": {
        "id": "3dzJirEEiZCs"
      },
      "execution_count": 30,
      "outputs": []
    },
    {
      "cell_type": "code",
      "source": [
        "# Linear Regression Model\n",
        "linear_model = LinearRegression()\n",
        "linear_model.fit(X_train, y_train)\n",
        "\n",
        "# Predict using the Linear Regression model\n",
        "y_pred_linear = linear_model.predict(X_test)\n",
        "\n",
        "# Evaluate the Linear Regression model\n",
        "mse_linear = mean_squared_error(y_test, y_pred_linear)\n",
        "r2_linear = r2_score(y_test, y_pred_linear)\n",
        "\n",
        "print(f\"Linear Regression MSE: {mse_linear}\")\n",
        "print(f\"Linear Regression R2: {r2_linear}\")"
      ],
      "metadata": {
        "colab": {
          "base_uri": "https://localhost:8080/"
        },
        "id": "CaL7Lm54iff1",
        "outputId": "b95f68ae-0143-4b38-89bf-569f80c9eb34"
      },
      "execution_count": 31,
      "outputs": [
        {
          "output_type": "stream",
          "name": "stdout",
          "text": [
            "Linear Regression MSE: 82523217.66775382\n",
            "Linear Regression R2: 0.344073962195685\n"
          ]
        }
      ]
    },
    {
      "cell_type": "code",
      "source": [
        "# Random Forest Model\n",
        "rf_model = RandomForestRegressor(n_estimators=100, random_state=42)\n",
        "rf_model.fit(X_train, y_train)\n",
        "\n",
        "# Predict using the Random Forest model\n",
        "y_pred_rf = rf_model.predict(X_test)\n",
        "\n",
        "# Evaluate the Random Forest model\n",
        "mse_rf = mean_squared_error(y_test, y_pred_rf)\n",
        "r2_rf = r2_score(y_test, y_pred_rf)\n",
        "\n",
        "print(f\"Random Forest MSE: {mse_rf}\")\n",
        "print(f\"Random Forest R2: {r2_rf}\")"
      ],
      "metadata": {
        "colab": {
          "base_uri": "https://localhost:8080/"
        },
        "id": "pZvNHlKMikwx",
        "outputId": "b780b94c-9202-4ad3-f089-a1593af000cc"
      },
      "execution_count": 32,
      "outputs": [
        {
          "output_type": "stream",
          "name": "stdout",
          "text": [
            "Random Forest MSE: 43531064.333333336\n",
            "Random Forest R2: 0.6539984824086023\n"
          ]
        }
      ]
    },
    {
      "cell_type": "code",
      "source": [
        "# Comparing the models (MSE and R2 values)\n",
        "models = ['Linear Regression', 'Random Forest']\n",
        "mse_values = [mse_linear, mse_rf]\n",
        "r2_values = [r2_linear, r2_rf]\n",
        "\n",
        "# Plotting the comparison of models\n",
        "fig, ax = plt.subplots(1, 2, figsize=(14, 6))\n",
        "\n",
        "# MSE Comparison\n",
        "ax[0].bar(models, mse_values, color=['blue', 'green'])\n",
        "ax[0].set_title('MSE Comparison')\n",
        "ax[0].set_ylabel('Mean Squared Error')\n",
        "\n",
        "# R2 Comparison\n",
        "ax[1].bar(models, r2_values, color=['blue', 'green'])\n",
        "ax[1].set_title('R2 Comparison')\n",
        "ax[1].set_ylabel('R2 Score')\n",
        "\n",
        "plt.tight_layout()\n",
        "plt.show()"
      ],
      "metadata": {
        "colab": {
          "base_uri": "https://localhost:8080/",
          "height": 607
        },
        "id": "BcEYrfQ5aMG5",
        "outputId": "950cfe05-b287-453c-cba9-3d22dc5589af"
      },
      "execution_count": 33,
      "outputs": [
        {
          "output_type": "display_data",
          "data": {
            "text/plain": [
              "<Figure size 1400x600 with 2 Axes>"
            ],
            "image/png": "[encoded data removed]"
          },
          "metadata": {}
        }
      ]
    },
    {
      "cell_type": "code",
      "source": [],
      "metadata": {
        "id": "XlWrCIZ2ismx"
      },
      "execution_count": null,
      "outputs": []
    }
  ]
}